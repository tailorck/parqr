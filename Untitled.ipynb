{
 "cells": [
  {
   "cell_type": "code",
   "execution_count": null,
   "metadata": {},
   "outputs": [],
   "source": [
    "from gensim.models.doc2vec import Doc2Vec, TaggedDocument\n",
    "from app.utils import get_config\n",
    "from app.tupperware import tupperware\n",
    "from app.elastic import ElasticHelper\n",
    "import numpy as np\n",
    "from sklearn.metrics.pairwise import cosine_similarity\n",
    "from sklearn.feature_extraction.text import TfidfVectorizer\n",
    "from functools import partial\n",
    "from gensim.parsing.preprocessing import (\n",
    "    preprocess_documents,\n",
    "    preprocess_string,\n",
    "    strip_tags,\n",
    "    strip_punctuation,\n",
    "    strip_multiple_whitespaces,\n",
    "    remove_stopwords,\n",
    "    stem_text\n",
    ")\n",
    "import pandas as pd\n",
    "import re\n",
    "import time"
   ]
  },
  {
   "cell_type": "markdown",
   "metadata": {},
   "source": [
    "### Data Preprocessing and Prep\nYou have to download the linkso dataset from: https://sites.google.com/view/linkso"
   ]
  },
  {
   "cell_type": "code",
   "execution_count": null,
   "metadata": {},
   "outputs": [],
   "source": [
    "# Number of rows to process from each file\n",
    "DATA_SIZE = 10000"
   ]
  },
  {
   "cell_type": "code",
   "execution_count": null,
   "metadata": {},
   "outputs": [],
   "source": [
    "preprocessor = partial(preprocess_string, filters=[strip_tags, strip_punctuation, strip_multiple_whitespaces, remove_stopwords, stem_text])"
   ]
  },
  {
   "cell_type": "code",
   "execution_count": null,
   "metadata": {},
   "outputs": [],
   "source": [
    "pairs = dict(pd.read_csv('contractions.tsv', names=['contraction', 'split'], sep='\\t').values)"
   ]
  },
  {
   "cell_type": "code",
   "execution_count": null,
   "metadata": {},
   "outputs": [],
   "source": [
    "def clean_text(string):\n",
    "    string = str(string).lower()\n",
    "    for contraction in pairs:\n",
    "        try:\n",
    "            string = re.sub(contraction, pairs[contraction], string)\n",
    "        except TypeError as err:\n",
    "            import pdb; pdb.set_trace()\n",
    "    string = re.sub('\\d+', 'number', string)\n",
    "    string = preprocessor(string)\n",
    "    return string"
   ]
  },
  {
   "cell_type": "code",
   "execution_count": null,
   "metadata": {},
   "outputs": [],
   "source": [
    "def get_freelancer_dataset():\n",
    "    \"\"\"\n",
    "    :returns: (original_data, unprocessed_sentences, processed_sentences, tagged_documents)\n",
    "    \"\"\"\n",
    "    config = tupperware(get_config())\n",
    "    config\n",
    "\n",
    "    db = ElasticHelper(config.elastic.hostname, config.elastic.port)\n",
    "    db.connect()\n",
    "\n",
    "    freelancer_posts = db.search(index_name='freelancer', size=10000)\n",
    "    f_posts = [post['_source'] for post in freelancer_posts['hits']['hits']]\n",
    "    sents = [post['title'] + ' ' + post['description'] for post in f_posts]\n",
    "    \n",
    "    tick = time.time()\n",
    "    processed_sents = list(map(clean_text, sents))\n",
    "    print(f\"Time it took to clean text: {time.time() - tick}\")\n",
    "    \n",
    "    tagged_docs = [TaggedDocument(string, [i]) for i, string in enumerate(processed_sents)]\n",
    "    return freelancer_posts, sents, processed_sents, tagged_docs"
   ]
  },
  {
   "cell_type": "code",
   "execution_count": null,
   "metadata": {},
   "outputs": [],
   "source": [
    "def get_quora_data():\n",
    "    \"\"\"\n",
    "    :returns: (original_data, unprocessed_sentences, processed_sentences, tagged_documents)\n",
    "    \"\"\"\n",
    "    tick = time.time()\n",
    "    quora_df = pd.read_csv('questions.csv', nrows=int(DATA_SIZE/2))\n",
    "    quora_df = quora_df.rename({'is_duplicate': 'label'}, axis=1)\n",
    "    print(f\"Time taken to load quora text: {time.time() - tick}\")\n",
    "    \n",
    "    questions = []\n",
    "    questions += quora_df['question1'].tolist()\n",
    "    questions += quora_df['question2'].tolist()\n",
    "    \n",
    "    tick = time.time()\n",
    "    processed_qs = list(map(clean_text, questions))\n",
    "    print(f\"Time taken to clean quora text: {time.time() - tick}\")\n",
    "    \n",
    "    tagged_questions = [TaggedDocument(string, [i]) for i, string in enumerate(processed_qs)]\n",
    "    return quora_df, questions, processed_qs, tagged_questions"
   ]
  },
  {
   "cell_type": "code",
   "execution_count": null,
   "metadata": {},
   "outputs": [],
   "source": [
    "def get_linkso_data(java=False, python=False, javascript=False):\n",
    "    \"\"\"\n",
    "    :returns: (original_data, unprocessed_sentences, processed_sentences, tagged_documents)\n",
    "    \"\"\"\n",
    "    tick = time.time()\n",
    "    if java:\n",
    "        java_text = pd.read_csv('linkso/java/java_qid2all.txt', sep='\\t', names=['qid', 'title', 'body', 'answer'], usecols=['qid', 'body'])\n",
    "        java_relations = pd.read_csv('linkso/java/java_cosidf.txt', sep='\\t', usecols=['qid1', 'qid2', 'label'])\n",
    "        java_df = pd.merge(java_relations, java_text, left_on='qid1', right_on='qid', how='left')\n",
    "        java_df = java_df.drop(\"qid\", axis=1).rename({\"body\": \"question1\"}, axis=1)\n",
    "        java_df = pd.merge(java_df, java_text, left_on='qid2', right_on='qid', how='left')\n",
    "        java_df = java_df.drop(\"qid\", axis=1).rename({\"body\": \"question2\"}, axis=1)\n",
    "    else:\n",
    "        java_df = pd.DataFrame(columns=['qid1', 'qid2', 'label', 'question1', 'question2'])\n",
    "\n",
    "    if python:\n",
    "        python_text = pd.read_csv('linkso/python/python_qid2all.txt', sep='\\t', names=['qid', 'title', 'body', 'answer'], usecols=['qid', 'body'])\n",
    "        python_relations = pd.read_csv('linkso/python/python_cosidf.txt', sep='\\t', usecols=['qid1', 'qid2', 'label'])\n",
    "        python_df = pd.merge(python_relations, python_text, left_on='qid1', right_on='qid', how='left')\n",
    "        python_df = python_df.drop(\"qid\", axis=1).rename({\"body\": \"question1\"}, axis=1)\n",
    "        python_df = pd.merge(python_df, python_text, left_on='qid2', right_on='qid', how='left')\n",
    "        python_df = python_df.drop(\"qid\", axis=1).rename({\"body\": \"question2\"}, axis=1)\n",
    "    else:\n",
    "        python_df = pd.DataFrame(columns=['qid1', 'qid2', 'label', 'question1', 'question2'])\n",
    "\n",
    "    if javascript:\n",
    "        javascript_text = pd.read_csv('linkso/javascript/javascript_qid2all.txt', sep='\\t', names=['qid', 'title', 'body', 'answer'], usecols=['qid', 'body'])\n",
    "        javascript_relations = pd.read_csv('linkso/javascript/javascript_cosidf.txt', sep='\\t', usecols=['qid1', 'qid2', 'label'])\n",
    "        javascript_df = pd.merge(javascript_relations, javascript_text, left_on='qid1', right_on='qid', how='left')\n",
    "        javascript_df = javascript_df.drop(\"qid\", axis=1).rename({\"body\": \"question1\"}, axis=1)\n",
    "        javascript_df = pd.merge(javascript_df, javascript_text, left_on='qid2', right_on='qid', how='left')\n",
    "        javascript_df = javascript_df.drop(\"qid\", axis=1).rename({\"body\": \"question2\"}, axis=1)\n",
    "    else:\n",
    "        javascript_df = pd.DataFrame(columns=['qid1', 'qid2', 'label', 'question1', 'question2'])\n",
    "    \n",
    "    linkso_data = pd.concat([java_df, python_df, javascript_df]).sample(int(DATA_SIZE/2))\n",
    "    print(f\"Time taken to load linkso data: {time.time() - tick}\")\n",
    "    \n",
    "    questions = []\n",
    "    questions += quora_df['question1'].tolist()\n",
    "    questions += quora_df['question2'].tolist()\n",
    "    \n",
    "    tick = time.time()\n",
    "    processed_qs = list(map(clean_text, questions))\n",
    "    print(f\"Time taken to clean linkso text: {time.time() - tick}\")\n",
    "    \n",
    "    tagged_questions = [TaggedDocument(string, [i]) for i, string in enumerate(processed_qs)]\n",
    "    return linkso_data, questions, processed_qs, tagged_questions"
   ]
  },
  {
   "cell_type": "code",
   "execution_count": null,
   "metadata": {},
   "outputs": [],
   "source": [
    "# f_data, f_qs, f_pqs, f_tqs = get_freelancer_dataset()"
   ]
  },
  {
   "cell_type": "code",
   "execution_count": null,
   "metadata": {},
   "outputs": [],
   "source": [
    "quora_df, quora_qs, quora_pqs, quora_tqs = get_quora_data()"
   ]
  },
  {
   "cell_type": "code",
   "execution_count": null,
   "metadata": {},
   "outputs": [],
   "source": [
    "linkso_df, linkso_qs, linkso_pqs, linkso_tqs = get_linkso_data(python=True)"
   ]
  },
  {
   "cell_type": "code",
   "execution_count": null,
   "metadata": {},
   "outputs": [],
   "source": [
    "linkso_df"
   ]
  },
  {
   "cell_type": "markdown",
   "metadata": {},
   "source": [
    "### Model Training Doc2Vec"
   ]
  },
  {
   "cell_type": "code",
   "execution_count": 246,
   "metadata": {},
   "outputs": [],
   "source": [
    "import sklearn.metrics as metrics\n",
    "import matplotlib.pyplot as plt\n",
    "\n",
    "\n",
    "class Doc2VecClassifier():\n",
    "    \n",
    "    def __init__(self, data_name, data_df, data_tqs):\n",
    "        self.data_name = data_name\n",
    "        self.data_df = data_df\n",
    "        self.data_tqs = data_tqs\n",
    "        self.model = doc2vec = Doc2Vec(dm=1, vector_size=32, window=4, min_count=2, epochs=30)\n",
    "        self.model.clear_sims()\n",
    "        \n",
    "    def train(self):\n",
    "        self.model.build_vocab(self.data_tqs)\n",
    "        self.model.train(self.data_tqs, total_examples=self.model.corpus_count, epochs=self.model.epochs)\n",
    "        \n",
    "    def compute_similarity_scores(self):\n",
    "        \n",
    "        def compute_similarity(row):\n",
    "            q1_vec = self.model.infer_vector(clean_text(row.question1)).reshape(1, -1)\n",
    "            q2_vec = self.model.infer_vector(clean_text(row.question2)).reshape(1, -1)\n",
    "            sim = cosine_similarity(q1_vec, q2_vec)[0][0]\n",
    "            return sim\n",
    "\n",
    "        self.data_df['scores'] = self.data_df.apply(compute_similarity, axis=1)\n",
    "    \n",
    "    def evaluate(self):\n",
    "        print(self.data_name)\n",
    "        # calculate the fpr and tpr for all thresholds of the classification\n",
    "        fpr, tpr, threshold = metrics.roc_curve(self.data_df.label, self.data_df.scores)\n",
    "        roc_auc = metrics.auc(fpr, tpr)\n",
    "\n",
    "        # method I: plt\n",
    "        plt.title('Receiver Operating Characteristic')\n",
    "        plt.plot(fpr, tpr, 'b', label = 'AUC = %0.2f' % roc_auc)\n",
    "        plt.legend(loc = 'lower right')\n",
    "        plt.plot([0, 1], [0, 1],'r--')\n",
    "        plt.xlim([0, 1])\n",
    "        plt.ylim([0, 1])\n",
    "        plt.ylabel('True Positive Rate')\n",
    "        plt.xlabel('False Positive Rate')\n",
    "        plt.show()\n",
    "        print(f'AUC: {roc_auc}')"
   ]
  },
  {
   "cell_type": "code",
   "execution_count": null,
   "metadata": {},
   "outputs": [],
   "source": [
    "quora_doc2vec = Doc2VecClassifier('quora', quora_df, quora_tqs)\n",
    "quora_doc2vec.train()\n",
    "quora_doc2vec.compute_similarity_scores()\n",
    "quora_doc2vec.evaluate()"
   ]
  },
  {
   "cell_type": "code",
   "execution_count": 247,
   "metadata": {},
   "outputs": [
    {
     "name": "stderr",
     "output_type": "stream",
     "text": [
      "'2020-09-27 01:49:46,402 - gensim.models.doc2vec - INFO - collecting all words and their counts'\n",
      "'2020-09-27 01:49:46,404 - gensim.models.doc2vec - INFO - PROGRESS: at example #0, processed 0 words (0/s), 0 word types, 0 tags'\n",
      "'2020-09-27 01:49:46,441 - gensim.models.doc2vec - INFO - collected 7349 word types and 10000 unique tags from a corpus of 10000 examples and 51738 words'\n",
      "'2020-09-27 01:49:46,442 - gensim.models.word2vec - INFO - Loading a fresh vocabulary'\n",
      "'2020-09-27 01:49:46,461 - gensim.models.word2vec - INFO - effective_min_count=2 retains 4584 unique words (62% of original 7349, drops 2765)'\n",
      "'2020-09-27 01:49:46,476 - gensim.models.word2vec - INFO - effective_min_count=2 leaves 48973 word corpus (94% of original 51738, drops 2765)'\n",
      "'2020-09-27 01:49:46,528 - gensim.models.word2vec - INFO - deleting the raw counts dictionary of 7349 items'\n",
      "'2020-09-27 01:49:46,530 - gensim.models.word2vec - INFO - sample=0.001 downsamples 32 most-common words'\n",
      "'2020-09-27 01:49:46,531 - gensim.models.word2vec - INFO - downsampling leaves estimated 45428 word corpus (92.8% of prior 48973)'\n",
      "'2020-09-27 01:49:46,547 - gensim.models.base_any2vec - INFO - estimated required memory for 4584 words and 32 dimensions: 4745504 bytes'\n",
      "'2020-09-27 01:49:46,548 - gensim.models.word2vec - INFO - resetting layer weights'\n",
      "'2020-09-27 01:49:50,150 - gensim.models.base_any2vec - INFO - training model with 3 workers on 4584 vocabulary and 32 features, using sg=0 hs=0 sample=0.001 negative=5 window=4'\n",
      "'2020-09-27 01:49:50,578 - gensim.models.base_any2vec - INFO - worker thread finished; awaiting finish of 2 more threads'\n",
      "'2020-09-27 01:49:50,712 - gensim.models.base_any2vec - INFO - worker thread finished; awaiting finish of 1 more threads'\n",
      "'2020-09-27 01:49:50,720 - gensim.models.base_any2vec - INFO - worker thread finished; awaiting finish of 0 more threads'\n",
      "'2020-09-27 01:49:50,721 - gensim.models.base_any2vec - INFO - EPOCH - 1 : training on 51738 raw words (55482 effective words) took 0.6s, 98647 effective words/s'\n",
      "'2020-09-27 01:49:51,200 - gensim.models.base_any2vec - INFO - worker thread finished; awaiting finish of 2 more threads'\n",
      "'2020-09-27 01:49:51,307 - gensim.models.base_any2vec - INFO - worker thread finished; awaiting finish of 1 more threads'\n",
      "'2020-09-27 01:49:51,318 - gensim.models.base_any2vec - INFO - worker thread finished; awaiting finish of 0 more threads'\n",
      "'2020-09-27 01:49:51,319 - gensim.models.base_any2vec - INFO - EPOCH - 2 : training on 51738 raw words (55510 effective words) took 0.6s, 94452 effective words/s'\n",
      "'2020-09-27 01:49:51,810 - gensim.models.base_any2vec - INFO - worker thread finished; awaiting finish of 2 more threads'\n",
      "'2020-09-27 01:49:51,970 - gensim.models.base_any2vec - INFO - worker thread finished; awaiting finish of 1 more threads'\n",
      "'2020-09-27 01:49:51,973 - gensim.models.base_any2vec - INFO - worker thread finished; awaiting finish of 0 more threads'\n",
      "'2020-09-27 01:49:51,973 - gensim.models.base_any2vec - INFO - EPOCH - 3 : training on 51738 raw words (55361 effective words) took 0.6s, 85507 effective words/s'\n",
      "'2020-09-27 01:49:52,421 - gensim.models.base_any2vec - INFO - worker thread finished; awaiting finish of 2 more threads'\n",
      "'2020-09-27 01:49:52,529 - gensim.models.base_any2vec - INFO - worker thread finished; awaiting finish of 1 more threads'\n",
      "'2020-09-27 01:49:52,552 - gensim.models.base_any2vec - INFO - worker thread finished; awaiting finish of 0 more threads'\n",
      "'2020-09-27 01:49:52,558 - gensim.models.base_any2vec - INFO - EPOCH - 4 : training on 51738 raw words (55465 effective words) took 0.6s, 96260 effective words/s'\n",
      "'2020-09-27 01:49:52,987 - gensim.models.base_any2vec - INFO - worker thread finished; awaiting finish of 2 more threads'\n",
      "'2020-09-27 01:49:53,171 - gensim.models.base_any2vec - INFO - worker thread finished; awaiting finish of 1 more threads'\n",
      "'2020-09-27 01:49:53,173 - gensim.models.base_any2vec - INFO - worker thread finished; awaiting finish of 0 more threads'\n",
      "'2020-09-27 01:49:53,173 - gensim.models.base_any2vec - INFO - EPOCH - 5 : training on 51738 raw words (55410 effective words) took 0.6s, 91338 effective words/s'\n",
      "'2020-09-27 01:49:53,629 - gensim.models.base_any2vec - INFO - worker thread finished; awaiting finish of 2 more threads'\n",
      "'2020-09-27 01:49:53,738 - gensim.models.base_any2vec - INFO - worker thread finished; awaiting finish of 1 more threads'\n",
      "'2020-09-27 01:49:53,772 - gensim.models.base_any2vec - INFO - worker thread finished; awaiting finish of 0 more threads'\n",
      "'2020-09-27 01:49:53,773 - gensim.models.base_any2vec - INFO - EPOCH - 6 : training on 51738 raw words (55406 effective words) took 0.6s, 94698 effective words/s'\n",
      "'2020-09-27 01:49:54,253 - gensim.models.base_any2vec - INFO - worker thread finished; awaiting finish of 2 more threads'\n",
      "'2020-09-27 01:49:54,411 - gensim.models.base_any2vec - INFO - worker thread finished; awaiting finish of 1 more threads'\n",
      "'2020-09-27 01:49:54,422 - gensim.models.base_any2vec - INFO - worker thread finished; awaiting finish of 0 more threads'\n",
      "'2020-09-27 01:49:54,423 - gensim.models.base_any2vec - INFO - EPOCH - 7 : training on 51738 raw words (55423 effective words) took 0.6s, 86266 effective words/s'\n",
      "'2020-09-27 01:49:54,942 - gensim.models.base_any2vec - INFO - worker thread finished; awaiting finish of 2 more threads'\n",
      "'2020-09-27 01:49:55,092 - gensim.models.base_any2vec - INFO - worker thread finished; awaiting finish of 1 more threads'\n",
      "'2020-09-27 01:49:55,098 - gensim.models.base_any2vec - INFO - worker thread finished; awaiting finish of 0 more threads'\n",
      "'2020-09-27 01:49:55,099 - gensim.models.base_any2vec - INFO - EPOCH - 8 : training on 51738 raw words (55443 effective words) took 0.7s, 83016 effective words/s'\n",
      "'2020-09-27 01:49:55,490 - gensim.models.base_any2vec - INFO - worker thread finished; awaiting finish of 2 more threads'\n",
      "'2020-09-27 01:49:55,629 - gensim.models.base_any2vec - INFO - worker thread finished; awaiting finish of 1 more threads'\n",
      "'2020-09-27 01:49:55,647 - gensim.models.base_any2vec - INFO - worker thread finished; awaiting finish of 0 more threads'\n",
      "'2020-09-27 01:49:55,648 - gensim.models.base_any2vec - INFO - EPOCH - 9 : training on 51738 raw words (55386 effective words) took 0.5s, 102326 effective words/s'\n",
      "'2020-09-27 01:49:56,051 - gensim.models.base_any2vec - INFO - worker thread finished; awaiting finish of 2 more threads'\n",
      "'2020-09-27 01:49:56,199 - gensim.models.base_any2vec - INFO - worker thread finished; awaiting finish of 1 more threads'\n",
      "'2020-09-27 01:49:56,217 - gensim.models.base_any2vec - INFO - worker thread finished; awaiting finish of 0 more threads'\n",
      "'2020-09-27 01:49:56,218 - gensim.models.base_any2vec - INFO - EPOCH - 10 : training on 51738 raw words (55449 effective words) took 0.6s, 98870 effective words/s'\n",
      "'2020-09-27 01:49:56,627 - gensim.models.base_any2vec - INFO - worker thread finished; awaiting finish of 2 more threads'\n",
      "'2020-09-27 01:49:56,791 - gensim.models.base_any2vec - INFO - worker thread finished; awaiting finish of 1 more threads'\n",
      "'2020-09-27 01:49:56,793 - gensim.models.base_any2vec - INFO - worker thread finished; awaiting finish of 0 more threads'\n",
      "'2020-09-27 01:49:56,793 - gensim.models.base_any2vec - INFO - EPOCH - 11 : training on 51738 raw words (55439 effective words) took 0.6s, 97731 effective words/s'\n",
      "'2020-09-27 01:49:57,247 - gensim.models.base_any2vec - INFO - worker thread finished; awaiting finish of 2 more threads'\n",
      "'2020-09-27 01:49:57,359 - gensim.models.base_any2vec - INFO - worker thread finished; awaiting finish of 1 more threads'\n",
      "'2020-09-27 01:49:57,367 - gensim.models.base_any2vec - INFO - worker thread finished; awaiting finish of 0 more threads'\n",
      "'2020-09-27 01:49:57,367 - gensim.models.base_any2vec - INFO - EPOCH - 12 : training on 51738 raw words (55377 effective words) took 0.6s, 99105 effective words/s'\n",
      "'2020-09-27 01:49:57,817 - gensim.models.base_any2vec - INFO - worker thread finished; awaiting finish of 2 more threads'\n",
      "'2020-09-27 01:49:57,931 - gensim.models.base_any2vec - INFO - worker thread finished; awaiting finish of 1 more threads'\n",
      "'2020-09-27 01:49:57,954 - gensim.models.base_any2vec - INFO - worker thread finished; awaiting finish of 0 more threads'\n",
      "'2020-09-27 01:49:57,955 - gensim.models.base_any2vec - INFO - EPOCH - 13 : training on 51738 raw words (55426 effective words) took 0.6s, 96887 effective words/s'\n",
      "'2020-09-27 01:49:58,399 - gensim.models.base_any2vec - INFO - worker thread finished; awaiting finish of 2 more threads'\n",
      "'2020-09-27 01:49:58,494 - gensim.models.base_any2vec - INFO - worker thread finished; awaiting finish of 1 more threads'\n",
      "'2020-09-27 01:49:58,517 - gensim.models.base_any2vec - INFO - worker thread finished; awaiting finish of 0 more threads'\n",
      "'2020-09-27 01:49:58,518 - gensim.models.base_any2vec - INFO - EPOCH - 14 : training on 51738 raw words (55438 effective words) took 0.5s, 101210 effective words/s'\n",
      "'2020-09-27 01:49:59,012 - gensim.models.base_any2vec - INFO - worker thread finished; awaiting finish of 2 more threads'\n",
      "'2020-09-27 01:49:59,067 - gensim.models.base_any2vec - INFO - worker thread finished; awaiting finish of 1 more threads'\n",
      "'2020-09-27 01:49:59,068 - gensim.models.base_any2vec - INFO - worker thread finished; awaiting finish of 0 more threads'\n",
      "'2020-09-27 01:49:59,068 - gensim.models.base_any2vec - INFO - EPOCH - 15 : training on 51738 raw words (55434 effective words) took 0.5s, 103926 effective words/s'\n",
      "'2020-09-27 01:49:59,480 - gensim.models.base_any2vec - INFO - worker thread finished; awaiting finish of 2 more threads'\n",
      "'2020-09-27 01:49:59,622 - gensim.models.base_any2vec - INFO - worker thread finished; awaiting finish of 1 more threads'\n",
      "'2020-09-27 01:49:59,632 - gensim.models.base_any2vec - INFO - worker thread finished; awaiting finish of 0 more threads'\n",
      "'2020-09-27 01:49:59,633 - gensim.models.base_any2vec - INFO - EPOCH - 16 : training on 51738 raw words (55392 effective words) took 0.5s, 100759 effective words/s'\n",
      "'2020-09-27 01:50:00,089 - gensim.models.base_any2vec - INFO - worker thread finished; awaiting finish of 2 more threads'\n",
      "'2020-09-27 01:50:00,174 - gensim.models.base_any2vec - INFO - worker thread finished; awaiting finish of 1 more threads'\n",
      "'2020-09-27 01:50:00,199 - gensim.models.base_any2vec - INFO - worker thread finished; awaiting finish of 0 more threads'\n",
      "'2020-09-27 01:50:00,200 - gensim.models.base_any2vec - INFO - EPOCH - 17 : training on 51738 raw words (55462 effective words) took 0.6s, 99199 effective words/s'\n",
      "'2020-09-27 01:50:00,637 - gensim.models.base_any2vec - INFO - worker thread finished; awaiting finish of 2 more threads'\n",
      "'2020-09-27 01:50:00,753 - gensim.models.base_any2vec - INFO - worker thread finished; awaiting finish of 1 more threads'\n",
      "'2020-09-27 01:50:00,754 - gensim.models.base_any2vec - INFO - worker thread finished; awaiting finish of 0 more threads'\n",
      "'2020-09-27 01:50:00,755 - gensim.models.base_any2vec - INFO - EPOCH - 18 : training on 51738 raw words (55383 effective words) took 0.5s, 102645 effective words/s'\n",
      "'2020-09-27 01:50:01,225 - gensim.models.base_any2vec - INFO - worker thread finished; awaiting finish of 2 more threads'\n",
      "'2020-09-27 01:50:01,301 - gensim.models.base_any2vec - INFO - worker thread finished; awaiting finish of 1 more threads'\n",
      "'2020-09-27 01:50:01,330 - gensim.models.base_any2vec - INFO - worker thread finished; awaiting finish of 0 more threads'\n",
      "'2020-09-27 01:50:01,331 - gensim.models.base_any2vec - INFO - EPOCH - 19 : training on 51738 raw words (55409 effective words) took 0.6s, 97588 effective words/s'\n",
      "'2020-09-27 01:50:01,757 - gensim.models.base_any2vec - INFO - worker thread finished; awaiting finish of 2 more threads'\n",
      "'2020-09-27 01:50:01,887 - gensim.models.base_any2vec - INFO - worker thread finished; awaiting finish of 1 more threads'\n",
      "'2020-09-27 01:50:01,889 - gensim.models.base_any2vec - INFO - worker thread finished; awaiting finish of 0 more threads'\n",
      "'2020-09-27 01:50:01,889 - gensim.models.base_any2vec - INFO - EPOCH - 20 : training on 51738 raw words (55420 effective words) took 0.5s, 100794 effective words/s'\n",
      "'2020-09-27 01:50:02,330 - gensim.models.base_any2vec - INFO - worker thread finished; awaiting finish of 2 more threads'\n",
      "'2020-09-27 01:50:02,493 - gensim.models.base_any2vec - INFO - worker thread finished; awaiting finish of 1 more threads'\n",
      "'2020-09-27 01:50:02,496 - gensim.models.base_any2vec - INFO - worker thread finished; awaiting finish of 0 more threads'\n",
      "'2020-09-27 01:50:02,497 - gensim.models.base_any2vec - INFO - EPOCH - 21 : training on 51738 raw words (55406 effective words) took 0.6s, 93363 effective words/s'\n",
      "'2020-09-27 01:50:02,894 - gensim.models.base_any2vec - INFO - worker thread finished; awaiting finish of 2 more threads'\n",
      "'2020-09-27 01:50:03,038 - gensim.models.base_any2vec - INFO - worker thread finished; awaiting finish of 1 more threads'\n",
      "'2020-09-27 01:50:03,056 - gensim.models.base_any2vec - INFO - worker thread finished; awaiting finish of 0 more threads'\n",
      "'2020-09-27 01:50:03,057 - gensim.models.base_any2vec - INFO - EPOCH - 22 : training on 51738 raw words (55467 effective words) took 0.6s, 100500 effective words/s'\n",
      "'2020-09-27 01:50:03,489 - gensim.models.base_any2vec - INFO - worker thread finished; awaiting finish of 2 more threads'\n",
      "'2020-09-27 01:50:03,582 - gensim.models.base_any2vec - INFO - worker thread finished; awaiting finish of 1 more threads'\n",
      "'2020-09-27 01:50:03,610 - gensim.models.base_any2vec - INFO - worker thread finished; awaiting finish of 0 more threads'\n",
      "'2020-09-27 01:50:03,611 - gensim.models.base_any2vec - INFO - EPOCH - 23 : training on 51738 raw words (55423 effective words) took 0.5s, 104776 effective words/s'\n",
      "'2020-09-27 01:50:04,059 - gensim.models.base_any2vec - INFO - worker thread finished; awaiting finish of 2 more threads'\n",
      "'2020-09-27 01:50:04,158 - gensim.models.base_any2vec - INFO - worker thread finished; awaiting finish of 1 more threads'\n",
      "'2020-09-27 01:50:04,173 - gensim.models.base_any2vec - INFO - worker thread finished; awaiting finish of 0 more threads'\n",
      "'2020-09-27 01:50:04,173 - gensim.models.base_any2vec - INFO - EPOCH - 24 : training on 51738 raw words (55426 effective words) took 0.6s, 100031 effective words/s'\n",
      "'2020-09-27 01:50:04,655 - gensim.models.base_any2vec - INFO - worker thread finished; awaiting finish of 2 more threads'\n",
      "'2020-09-27 01:50:04,743 - gensim.models.base_any2vec - INFO - worker thread finished; awaiting finish of 1 more threads'\n",
      "'2020-09-27 01:50:04,751 - gensim.models.base_any2vec - INFO - worker thread finished; awaiting finish of 0 more threads'\n",
      "'2020-09-27 01:50:04,752 - gensim.models.base_any2vec - INFO - EPOCH - 25 : training on 51738 raw words (55472 effective words) took 0.6s, 98316 effective words/s'\n",
      "'2020-09-27 01:50:05,149 - gensim.models.base_any2vec - INFO - worker thread finished; awaiting finish of 2 more threads'\n",
      "'2020-09-27 01:50:05,302 - gensim.models.base_any2vec - INFO - worker thread finished; awaiting finish of 1 more threads'\n",
      "'2020-09-27 01:50:05,316 - gensim.models.base_any2vec - INFO - worker thread finished; awaiting finish of 0 more threads'\n",
      "'2020-09-27 01:50:05,317 - gensim.models.base_any2vec - INFO - EPOCH - 26 : training on 51738 raw words (55395 effective words) took 0.6s, 99405 effective words/s'\n",
      "'2020-09-27 01:50:05,718 - gensim.models.base_any2vec - INFO - worker thread finished; awaiting finish of 2 more threads'\n",
      "'2020-09-27 01:50:05,861 - gensim.models.base_any2vec - INFO - worker thread finished; awaiting finish of 1 more threads'\n",
      "'2020-09-27 01:50:05,870 - gensim.models.base_any2vec - INFO - worker thread finished; awaiting finish of 0 more threads'\n",
      "'2020-09-27 01:50:05,870 - gensim.models.base_any2vec - INFO - EPOCH - 27 : training on 51738 raw words (55406 effective words) took 0.5s, 102943 effective words/s'\n",
      "'2020-09-27 01:50:06,310 - gensim.models.base_any2vec - INFO - worker thread finished; awaiting finish of 2 more threads'\n",
      "'2020-09-27 01:50:06,441 - gensim.models.base_any2vec - INFO - worker thread finished; awaiting finish of 1 more threads'\n",
      "'2020-09-27 01:50:06,445 - gensim.models.base_any2vec - INFO - worker thread finished; awaiting finish of 0 more threads'\n",
      "'2020-09-27 01:50:06,446 - gensim.models.base_any2vec - INFO - EPOCH - 28 : training on 51738 raw words (55414 effective words) took 0.6s, 97667 effective words/s'\n",
      "'2020-09-27 01:50:06,905 - gensim.models.base_any2vec - INFO - worker thread finished; awaiting finish of 2 more threads'\n",
      "'2020-09-27 01:50:07,027 - gensim.models.base_any2vec - INFO - worker thread finished; awaiting finish of 1 more threads'\n",
      "'2020-09-27 01:50:07,033 - gensim.models.base_any2vec - INFO - worker thread finished; awaiting finish of 0 more threads'\n",
      "'2020-09-27 01:50:07,034 - gensim.models.base_any2vec - INFO - EPOCH - 29 : training on 51738 raw words (55456 effective words) took 0.6s, 97020 effective words/s'\n",
      "'2020-09-27 01:50:07,469 - gensim.models.base_any2vec - INFO - worker thread finished; awaiting finish of 2 more threads'\n",
      "'2020-09-27 01:50:07,570 - gensim.models.base_any2vec - INFO - worker thread finished; awaiting finish of 1 more threads'\n",
      "'2020-09-27 01:50:07,606 - gensim.models.base_any2vec - INFO - worker thread finished; awaiting finish of 0 more threads'\n",
      "'2020-09-27 01:50:07,606 - gensim.models.base_any2vec - INFO - EPOCH - 30 : training on 51738 raw words (55418 effective words) took 0.6s, 99224 effective words/s'\n",
      "'2020-09-27 01:50:07,607 - gensim.models.base_any2vec - INFO - training on a 1552140 raw words (1662798 effective words) took 17.5s, 95251 effective words/s'\n"
     ]
    }
   ],
   "source": [
    "link_doc2vec = Doc2VecClassifier('link', linkso_df, linkso_tqs)\n",
    "link_doc2vec.train()"
   ]
  },
  {
   "cell_type": "code",
   "execution_count": 267,
   "metadata": {},
   "outputs": [],
   "source": [
    "link_doc2vec.compute_similarity_scores()"
   ]
  },
  {
   "cell_type": "code",
   "execution_count": 268,
   "metadata": {},
   "outputs": [
    {
     "ename": "ValueError",
     "evalue": "unknown format is not supported",
     "output_type": "error",
     "traceback": [
      "\u001b[0;31m---------------------------------------------------------------------------\u001b[0m",
      "\u001b[0;31mValueError\u001b[0m                                Traceback (most recent call last)",
      "\u001b[0;32m<ipython-input-268-10c5df6de5ff>\u001b[0m in \u001b[0;36m<module>\u001b[0;34m\u001b[0m\n\u001b[0;32m----> 1\u001b[0;31m \u001b[0mmetrics\u001b[0m\u001b[0;34m.\u001b[0m\u001b[0mroc_curve\u001b[0m\u001b[0;34m(\u001b[0m\u001b[0mlink_doc2vec\u001b[0m\u001b[0;34m.\u001b[0m\u001b[0mdata_df\u001b[0m\u001b[0;34m.\u001b[0m\u001b[0mlabel\u001b[0m\u001b[0;34m,\u001b[0m \u001b[0mlink_doc2vec\u001b[0m\u001b[0;34m.\u001b[0m\u001b[0mdata_df\u001b[0m\u001b[0;34m.\u001b[0m\u001b[0mscores\u001b[0m\u001b[0;34m)\u001b[0m\u001b[0;34m\u001b[0m\u001b[0;34m\u001b[0m\u001b[0m\n\u001b[0m",
      "\u001b[0;32m~/Envs/lee/lib/python3.6/site-packages/sklearn/utils/validation.py\u001b[0m in \u001b[0;36minner_f\u001b[0;34m(*args, **kwargs)\u001b[0m\n\u001b[1;32m     71\u001b[0m                           FutureWarning)\n\u001b[1;32m     72\u001b[0m         \u001b[0mkwargs\u001b[0m\u001b[0;34m.\u001b[0m\u001b[0mupdate\u001b[0m\u001b[0;34m(\u001b[0m\u001b[0;34m{\u001b[0m\u001b[0mk\u001b[0m\u001b[0;34m:\u001b[0m \u001b[0marg\u001b[0m \u001b[0;32mfor\u001b[0m \u001b[0mk\u001b[0m\u001b[0;34m,\u001b[0m \u001b[0marg\u001b[0m \u001b[0;32min\u001b[0m \u001b[0mzip\u001b[0m\u001b[0;34m(\u001b[0m\u001b[0msig\u001b[0m\u001b[0;34m.\u001b[0m\u001b[0mparameters\u001b[0m\u001b[0;34m,\u001b[0m \u001b[0margs\u001b[0m\u001b[0;34m)\u001b[0m\u001b[0;34m}\u001b[0m\u001b[0;34m)\u001b[0m\u001b[0;34m\u001b[0m\u001b[0;34m\u001b[0m\u001b[0m\n\u001b[0;32m---> 73\u001b[0;31m         \u001b[0;32mreturn\u001b[0m \u001b[0mf\u001b[0m\u001b[0;34m(\u001b[0m\u001b[0;34m**\u001b[0m\u001b[0mkwargs\u001b[0m\u001b[0;34m)\u001b[0m\u001b[0;34m\u001b[0m\u001b[0;34m\u001b[0m\u001b[0m\n\u001b[0m\u001b[1;32m     74\u001b[0m     \u001b[0;32mreturn\u001b[0m \u001b[0minner_f\u001b[0m\u001b[0;34m\u001b[0m\u001b[0;34m\u001b[0m\u001b[0m\n\u001b[1;32m     75\u001b[0m \u001b[0;34m\u001b[0m\u001b[0m\n",
      "\u001b[0;32m~/Envs/lee/lib/python3.6/site-packages/sklearn/metrics/_ranking.py\u001b[0m in \u001b[0;36mroc_curve\u001b[0;34m(y_true, y_score, pos_label, sample_weight, drop_intermediate)\u001b[0m\n\u001b[1;32m    774\u001b[0m     \"\"\"\n\u001b[1;32m    775\u001b[0m     fps, tps, thresholds = _binary_clf_curve(\n\u001b[0;32m--> 776\u001b[0;31m         y_true, y_score, pos_label=pos_label, sample_weight=sample_weight)\n\u001b[0m\u001b[1;32m    777\u001b[0m \u001b[0;34m\u001b[0m\u001b[0m\n\u001b[1;32m    778\u001b[0m     \u001b[0;31m# Attempt to drop thresholds corresponding to points in between and\u001b[0m\u001b[0;34m\u001b[0m\u001b[0;34m\u001b[0m\u001b[0;34m\u001b[0m\u001b[0m\n",
      "\u001b[0;32m~/Envs/lee/lib/python3.6/site-packages/sklearn/metrics/_ranking.py\u001b[0m in \u001b[0;36m_binary_clf_curve\u001b[0;34m(y_true, y_score, pos_label, sample_weight)\u001b[0m\n\u001b[1;32m    537\u001b[0m     if not (y_type == \"binary\" or\n\u001b[1;32m    538\u001b[0m             (y_type == \"multiclass\" and pos_label is not None)):\n\u001b[0;32m--> 539\u001b[0;31m         \u001b[0;32mraise\u001b[0m \u001b[0mValueError\u001b[0m\u001b[0;34m(\u001b[0m\u001b[0;34m\"{0} format is not supported\"\u001b[0m\u001b[0;34m.\u001b[0m\u001b[0mformat\u001b[0m\u001b[0;34m(\u001b[0m\u001b[0my_type\u001b[0m\u001b[0;34m)\u001b[0m\u001b[0;34m)\u001b[0m\u001b[0;34m\u001b[0m\u001b[0;34m\u001b[0m\u001b[0m\n\u001b[0m\u001b[1;32m    540\u001b[0m \u001b[0;34m\u001b[0m\u001b[0m\n\u001b[1;32m    541\u001b[0m     \u001b[0mcheck_consistent_length\u001b[0m\u001b[0;34m(\u001b[0m\u001b[0my_true\u001b[0m\u001b[0;34m,\u001b[0m \u001b[0my_score\u001b[0m\u001b[0;34m,\u001b[0m \u001b[0msample_weight\u001b[0m\u001b[0;34m)\u001b[0m\u001b[0;34m\u001b[0m\u001b[0;34m\u001b[0m\u001b[0m\n",
      "\u001b[0;31mValueError\u001b[0m: unknown format is not supported"
     ]
    }
   ],
   "source": [
    "metrics.roc_curve(link_doc2vec.data_df.label, link_doc2vec.data_df.scores)"
   ]
  },
  {
   "cell_type": "markdown",
   "metadata": {},
   "source": [
    "### Model Training TfIDF"
   ]
  },
  {
   "cell_type": "code",
   "execution_count": null,
   "metadata": {},
   "outputs": [],
   "source": [
    "tfidf = TfidfVectorizer()"
   ]
  },
  {
   "cell_type": "code",
   "execution_count": null,
   "metadata": {},
   "outputs": [],
   "source": [
    "tfidf.fit([' '.join(q) for q in quora_pqs])"
   ]
  },
  {
   "cell_type": "code",
   "execution_count": null,
   "metadata": {},
   "outputs": [],
   "source": [
    "def compute_similarity(row):\n",
    "    q1_vec = tfidf.transform([' '.join(clean_text([row.question1]))]).reshape(1, -1)\n",
    "    q2_vec = tfidf.transform([' '.join(clean_text([row.question2]))]).reshape(1, -1)\n",
    "    sim = cosine_similarity(q1_vec, q2_vec)[0][0]\n",
    "    return sim\n",
    "\n",
    "quora_df['scores'] = quora_df.apply(compute_similarity, axis=1)\n",
    "\n",
    "# calculate the fpr and tpr for all thresholds of the classification\n",
    "fpr, tpr, threshold = metrics.roc_curve(quora_df.is_duplicate, quora_df.scores)\n",
    "roc_auc = metrics.auc(fpr, tpr)"
   ]
  },
  {
   "cell_type": "code",
   "execution_count": null,
   "metadata": {},
   "outputs": [],
   "source": [
    "# method I: plt\n",
    "import matplotlib.pyplot as plt\n",
    "plt.title('Receiver Operating Characteristic')\n",
    "plt.plot(fpr, tpr, 'b', label = 'AUC = %0.2f' % roc_auc)\n",
    "plt.legend(loc = 'lower right')\n",
    "plt.plot([0, 1], [0, 1],'r--')\n",
    "plt.xlim([0, 1])\n",
    "plt.ylim([0, 1])\n",
    "plt.ylabel('True Positive Rate')\n",
    "plt.xlabel('False Positive Rate')\n",
    "plt.show()\n",
    "print(f'AUC: {roc_auc}')"
   ]
  },
  {
   "cell_type": "code",
   "execution_count": null,
   "metadata": {},
   "outputs": [],
   "source": []
  }
 ],
 "metadata": {
  "kernelspec": {
   "display_name": "Python 3",
   "language": "python",
   "name": "python3"
  },
  "language_info": {
   "codemirror_mode": {
    "name": "ipython",
    "version": 3
   },
   "file_extension": ".py",
   "mimetype": "text/x-python",
   "name": "python",
   "nbconvert_exporter": "python",
   "pygments_lexer": "ipython3",
   "version": "3.6.8"
  }
 },
 "nbformat": 4,
 "nbformat_minor": 4
}
